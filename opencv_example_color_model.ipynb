{
 "cells": [
  {
   "cell_type": "code",
   "execution_count": 1,
   "metadata": {},
   "outputs": [
    {
     "name": "stdout",
     "output_type": "stream",
     "text": [
      "Using matplotlib backend: MacOSX\n",
      "854.0 480.0\n",
      "fps  29.978901018255208\n"
     ]
    }
   ],
   "source": [
    "%matplotlib auto\n",
    "import cv2\n",
    "import numpy as np\n",
    " \n",
    "def rescale_frame(frame, percent=75):\n",
    "    width = int(frame.shape[1] * percent/ 100)\n",
    "    height = int(frame.shape[0] * percent/ 100)\n",
    "    dim = (width, height)\n",
    "    return cv2.resize(frame, dim, interpolation =cv2.INTER_AREA)\n",
    "\n",
    "def rescale_frame_w_h(frame, target_w = 640, target_h = 480):\n",
    "    dim = (target_w, target_h)\n",
    "    return cv2.resize(frame, dim, interpolation =cv2.INTER_AREA)\n",
    "\n",
    "def norm_int(frame):\n",
    "    cv2.normalize(frame,frame,0,255,cv2.NORM_MINMAX)\n",
    "    return frame.astype(int)\n",
    "\n",
    "    \n",
    "# Create a VideoCapture object and read from input file\n",
    "# If the input is the camera, pass 0 instead of the video file name\n",
    "cap = cv2.VideoCapture('forest_fire.mp4',0)\n",
    "\n",
    "# Define the codec and create VideoWriter object\n",
    "#fourcc = cv2.VideoWriter_fourcc(*'FMP4')\n",
    "fourcc = 0\n",
    "print(cap.get(3),cap.get(4))\n",
    "frame_width = int(cap.get(3))\n",
    "frame_height = int(cap.get(4))\n",
    "#out = cv2.VideoWriter('flipped_flame.avi',cv2.VideoWriter_fourcc('M','J','P','G'), 60, (frame_width,frame_height))\n",
    "fps = cap.get(cv2.CAP_PROP_FPS)\n",
    "print(\"fps \",fps)\n",
    "\n",
    "# Ouverture d'un flux vidéo en écriture\n",
    "out = cv2.VideoWriter('reduced_flame_color_segmented.avi',fourcc, int(fps), (frame_width,frame_height))\n",
    "#out2 = cv2.VideoWriter('reduced_flame_gray.avi',fourcc, fps, (frame_width,frame_height))\n",
    "#out3 = cv2.VideoWriter('reduced_flame_gradienty.avi',fourcc, fps, (frame_width,frame_height))\n",
    "\n",
    "# Check if camera opened successfully\n",
    "if (cap.isOpened()== False): \n",
    "  print(\"Error opening video stream or file\")\n",
    "\n",
    "\n",
    "# Read until video is completed\n",
    "while(cap.isOpened()):\n",
    "  # Capture frame-by-frame\n",
    "  ret, frame = cap.read()\n",
    "\n",
    "  if ret == True:\n",
    "\n",
    "    # Affichage de la vidéo avant filtrage\n",
    "    cv2.imshow('Source',frame)\n",
    "    # Convert to binary\n",
    "    # Application d'un filtre binaire sur l'intensité du canal Rouge\n",
    "    ret, binary = cv2.threshold(frame[:,:,2],127,255,cv2.THRESH_BINARY)\n",
    "    # Affichage du premier filtrage\n",
    "    cv2.imshow('1st filter',binary)\n",
    "    # Deuxième filtrage R > G > B pour isoler les flammes\n",
    "    binary = binary*(frame[:,:,0]<frame[:,:,1])*(frame[:,:,1]<frame[:,:,2])\n",
    "    # Affichage après 2ème filtre (les fenêtres sont superposées)\n",
    "    cv2.imshow('All filters',binary)\n",
    "    binary = cv2.cvtColor(binary,cv2.COLOR_GRAY2BGR)     \n",
    "    # Ecriture dans le flux de sortie  \n",
    "    out.write(binary)\n",
    " \n",
    "    # Press Q on keyboard to  exit\n",
    "    if cv2.waitKey(25) & 0xFF == ord('q'):\n",
    "      break\n",
    "   \n",
    "  # Break the loop\n",
    "  else: \n",
    "    break\n",
    "\n",
    "# When everything done, release the video capture object\n",
    "cap.release()\n",
    "out.release()\n",
    "#out2.release()\n",
    "# Closes all the frames\n",
    "cv2.destroyAllWindows()"
   ]
  },
  {
   "cell_type": "code",
   "execution_count": null,
   "metadata": {},
   "outputs": [],
   "source": []
  },
  {
   "cell_type": "code",
   "execution_count": null,
   "metadata": {},
   "outputs": [],
   "source": []
  },
  {
   "cell_type": "code",
   "execution_count": null,
   "metadata": {},
   "outputs": [],
   "source": []
  }
 ],
 "metadata": {
  "kernelspec": {
   "display_name": "Python 3",
   "language": "python",
   "name": "python3"
  },
  "language_info": {
   "codemirror_mode": {
    "name": "ipython",
    "version": 3
   },
   "file_extension": ".py",
   "mimetype": "text/x-python",
   "name": "python",
   "nbconvert_exporter": "python",
   "pygments_lexer": "ipython3",
   "version": "3.6.9"
  }
 },
 "nbformat": 4,
 "nbformat_minor": 2
}
